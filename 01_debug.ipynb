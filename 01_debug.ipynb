{
 "cells": [
  {
   "cell_type": "code",
   "execution_count": 1,
   "id": "219b428d-81a9-4586-80ea-dd9516293244",
   "metadata": {},
   "outputs": [],
   "source": [
    "from IPython import get_ipython"
   ]
  },
  {
   "cell_type": "code",
   "execution_count": 2,
   "id": "efe22934-e836-4e2f-8807-032a8346659f",
   "metadata": {},
   "outputs": [],
   "source": [
    "shell = get_ipython()"
   ]
  },
  {
   "cell_type": "code",
   "execution_count": 3,
   "id": "2e89b048-8889-46f9-b0a2-a24c4002e45f",
   "metadata": {},
   "outputs": [
    {
     "data": {
      "text/plain": [
       "[(0, 1, ('from IPython import get_ipython', None)),\n",
       " (0, 2, ('shell = get_ipython()', None)),\n",
       " (0, 3, ('list(shell.history_manager.get_range(output=True))', None))]"
      ]
     },
     "execution_count": 3,
     "metadata": {},
     "output_type": "execute_result"
    }
   ],
   "source": [
    "list(shell.history_manager.get_range(output=True))"
   ]
  },
  {
   "cell_type": "code",
   "execution_count": null,
   "id": "4d80435d-020e-4eb3-bdf0-de83eda9312a",
   "metadata": {},
   "outputs": [],
   "source": []
  }
 ],
 "metadata": {
  "kernelspec": {
   "display_name": "Python 3 (ipykernel)",
   "language": "python",
   "name": "python3"
  },
  "language_info": {
   "codemirror_mode": {
    "name": "ipython",
    "version": 3
   },
   "file_extension": ".py",
   "mimetype": "text/x-python",
   "name": "python",
   "nbconvert_exporter": "python",
   "pygments_lexer": "ipython3",
   "version": "3.10.4"
  }
 },
 "nbformat": 4,
 "nbformat_minor": 5
}
